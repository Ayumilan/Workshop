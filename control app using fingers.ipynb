{
 "cells": [
  {
   "cell_type": "code",
   "execution_count": 44,
   "id": "a9db6626",
   "metadata": {},
   "outputs": [],
   "source": [
    "import os\n",
    "import cv2\n",
    "from cvzone.HandTrackingModule import HandDetector\n",
    "\n",
    "camera = cv2.VideoCapture( 0 )\n",
    "\n",
    "detector = HandDetector()"
   ]
  },
  {
   "cell_type": "code",
   "execution_count": 57,
   "id": "ca56e2b0",
   "metadata": {},
   "outputs": [],
   "source": [
    "# click photo\n",
    "status, photo = camera.read()\n"
   ]
  },
  {
   "cell_type": "code",
   "execution_count": 58,
   "id": "e5c75e4b",
   "metadata": {},
   "outputs": [
    {
     "data": {
      "text/plain": [
       "True"
      ]
     },
     "execution_count": 58,
     "metadata": {},
     "output_type": "execute_result"
    }
   ],
   "source": [
    "status"
   ]
  },
  {
   "cell_type": "code",
   "execution_count": 59,
   "id": "f238abc8",
   "metadata": {},
   "outputs": [],
   "source": [
    "# show the pic, from python code\n",
    "cv2.imshow(\"pic\" , photo)\n",
    "cv2.waitKey()\n",
    "cv2.destroyAllWindows()"
   ]
  },
  {
   "cell_type": "code",
   "execution_count": 60,
   "id": "3a7a78cc",
   "metadata": {},
   "outputs": [
    {
     "name": "stdout",
     "output_type": "stream",
     "text": [
      "index and middle finger up, open Notepad\n"
     ]
    }
   ],
   "source": [
    "myhand = detector.findHands(photo , draw=False)\n",
    "lmlist = myhand[0]\n",
    "fingerstatus = detector.fingersUp(lmlist)\n",
    "\n",
    "if fingerstatus == [1,1,1,1,1]:\n",
    "    print(\"all up, Show system Info\")\n",
    "    os.system(\"msinfo32\")\n",
    "\n",
    "elif fingerstatus == [ 0, 1, 0, 0, 0]:\n",
    "    print(\"index finger up, Open Edge and search AYUSH MILAN\")\n",
    "    os.system(\"start microsoft-edge:https://www.bing.com/search?q=AYUSH+MILAN\")\n",
    "    \n",
    "elif fingerstatus == [ 0, 1, 1, 0, 0 ]:\n",
    "    print(\"index and middle finger up, open Notepad\")\n",
    "    os.system(\"notepad\")\n",
    "    \n",
    "elif fingerstatus == [ 1, 1, 0, 0, 0 ]:\n",
    "    print(\"thumb and index finger up, open MSPaint\")\n",
    "    os.system(\"mspaint\")\n",
    "\n",
    "elif fingerstatus == [ 0, 0, 0, 0, 1 ]:\n",
    "    print(\"little finger up, open File Explorer\")\n",
    "    os.system(\"explorer\") \n",
    "\n",
    "elif fingerstatus == [ 0, 0, 1, 1, 1 ]:\n",
    "    print(\"other than thumb and index finger are up, open Calculator\")\n",
    "    os.system(\"calc\")\n",
    "    \n",
    "elif fingerstatus == [ 0, 1, 0, 0, 1 ]:\n",
    "    print(\"index and little finger up, open Task Manager\")\n",
    "    os.system(\"taskmgr\") \n",
    "    \n",
    "elif fingerstatus == [ 0, 0, 0, 0, 0 ]:\n",
    "    print(\"no finger up, open Control panel\")\n",
    "    os.system(\"control\") \n",
    "\n",
    "else:\n",
    "    print(\"Invalid option\")"
   ]
  },
  {
   "cell_type": "code",
   "execution_count": 61,
   "id": "0a087e28",
   "metadata": {},
   "outputs": [],
   "source": [
    "camera.release()"
   ]
  },
  {
   "cell_type": "code",
   "execution_count": null,
   "id": "e2c430c8",
   "metadata": {},
   "outputs": [],
   "source": []
  }
 ],
 "metadata": {
  "kernelspec": {
   "display_name": "Python 3 (ipykernel)",
   "language": "python",
   "name": "python3"
  },
  "language_info": {
   "codemirror_mode": {
    "name": "ipython",
    "version": 3
   },
   "file_extension": ".py",
   "mimetype": "text/x-python",
   "name": "python",
   "nbconvert_exporter": "python",
   "pygments_lexer": "ipython3",
   "version": "3.10.9"
  }
 },
 "nbformat": 4,
 "nbformat_minor": 5
}
