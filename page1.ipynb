{
 "cells": [
  {
   "cell_type": "code",
   "execution_count": 158,
   "id": "1640b2bc",
   "metadata": {},
   "outputs": [],
   "source": [
    "import cv2"
   ]
  },
  {
   "cell_type": "code",
   "execution_count": 159,
   "id": "f78e28f2",
   "metadata": {},
   "outputs": [],
   "source": [
    "camera = cv2.VideoCapture( 0 )"
   ]
  },
  {
   "cell_type": "code",
   "execution_count": 152,
   "id": "a5cce8fc",
   "metadata": {},
   "outputs": [],
   "source": [
    "status, photo = camera.read() #click photo"
   ]
  },
  {
   "cell_type": "code",
   "execution_count": 153,
   "id": "5d941387",
   "metadata": {},
   "outputs": [
    {
     "data": {
      "text/plain": [
       "True"
      ]
     },
     "execution_count": 153,
     "metadata": {},
     "output_type": "execute_result"
    }
   ],
   "source": [
    "status"
   ]
  },
  {
   "cell_type": "code",
   "execution_count": 154,
   "id": "f5181c25",
   "metadata": {},
   "outputs": [
    {
     "data": {
      "text/plain": [
       "True"
      ]
     },
     "execution_count": 154,
     "metadata": {},
     "output_type": "execute_result"
    }
   ],
   "source": [
    "cv2.imwrite(\"ayush.jpg\", photo) # save the photo"
   ]
  },
  {
   "cell_type": "code",
   "execution_count": 155,
   "id": "f3b97f0b",
   "metadata": {},
   "outputs": [],
   "source": [
    "# show the pic \n",
    "cv2.imshow(\"demo\", photo)\n",
    "cv2.waitKey(5000)\n",
    "cv2.destroyAllWindows()"
   ]
  },
  {
   "cell_type": "code",
   "execution_count": null,
   "id": "4387d945",
   "metadata": {},
   "outputs": [],
   "source": []
  },
  {
   "cell_type": "code",
   "execution_count": 164,
   "id": "3b9c00ba",
   "metadata": {},
   "outputs": [],
   "source": [
    "#live video\n",
    "while True:\n",
    "    status, photo = camera.read()\n",
    "    cv2.imshow(\"demo\", photo)\n",
    "    #50 millisecond\n",
    "    #13 enter key\n",
    "    if cv2.waitKey(1) == 13:\n",
    "        break\n",
    "\n",
    "cv2.destroyAllWindows()"
   ]
  },
  {
   "cell_type": "code",
   "execution_count": null,
   "id": "628f4a31",
   "metadata": {},
   "outputs": [],
   "source": []
  },
  {
   "cell_type": "code",
   "execution_count": null,
   "id": "6163b901",
   "metadata": {},
   "outputs": [],
   "source": []
  },
  {
   "cell_type": "code",
   "execution_count": 129,
   "id": "5b40cd3c",
   "metadata": {},
   "outputs": [],
   "source": [
    "# AI to CV"
   ]
  },
  {
   "cell_type": "code",
   "execution_count": 130,
   "id": "3aa9eaff",
   "metadata": {},
   "outputs": [],
   "source": [
    "#install cvzone and mediapipe using pip"
   ]
  },
  {
   "cell_type": "code",
   "execution_count": 131,
   "id": "8d6a6851",
   "metadata": {},
   "outputs": [],
   "source": [
    "from cvzone.HandTrackingModule import HandDetector"
   ]
  },
  {
   "cell_type": "code",
   "execution_count": 132,
   "id": "d8a38cbe",
   "metadata": {},
   "outputs": [],
   "source": [
    "detector = HandDetector()"
   ]
  },
  {
   "cell_type": "code",
   "execution_count": 133,
   "id": "051ea210",
   "metadata": {},
   "outputs": [],
   "source": [
    "hand_pic = detector.findHands(photo, draw=False)"
   ]
  },
  {
   "cell_type": "code",
   "execution_count": 134,
   "id": "3099ce8b",
   "metadata": {},
   "outputs": [],
   "source": [
    "lmlist = hand_pic[0]"
   ]
  },
  {
   "cell_type": "code",
   "execution_count": 135,
   "id": "3daeffe0",
   "metadata": {},
   "outputs": [
    {
     "data": {
      "text/plain": [
       "[0, 1, 1, 0, 0]"
      ]
     },
     "execution_count": 135,
     "metadata": {},
     "output_type": "execute_result"
    }
   ],
   "source": [
    "detector.fingersUp(lmlist)"
   ]
  },
  {
   "cell_type": "code",
   "execution_count": null,
   "id": "a1ce785f",
   "metadata": {},
   "outputs": [],
   "source": []
  },
  {
   "cell_type": "code",
   "execution_count": 138,
   "id": "7fff75cf",
   "metadata": {},
   "outputs": [],
   "source": [
    "cv2.imshow(\"demo\", photo)\n",
    "cv2.waitKey()\n",
    "cv2.destroyAllWindows()"
   ]
  },
  {
   "cell_type": "code",
   "execution_count": 137,
   "id": "7f3fb925",
   "metadata": {},
   "outputs": [
    {
     "data": {
      "text/plain": [
       "[{'lmList': [[505, 465, 0],\n",
       "   [475, 463, -21],\n",
       "   [450, 446, -38],\n",
       "   [460, 429, -53],\n",
       "   [479, 414, -68],\n",
       "   [455, 391, -36],\n",
       "   [429, 351, -57],\n",
       "   [414, 325, -69],\n",
       "   [402, 302, -77],\n",
       "   [483, 384, -39],\n",
       "   [476, 339, -62],\n",
       "   [471, 311, -73],\n",
       "   [467, 286, -76],\n",
       "   [510, 391, -44],\n",
       "   [504, 395, -70],\n",
       "   [497, 429, -71],\n",
       "   [492, 447, -64],\n",
       "   [533, 404, -49],\n",
       "   [525, 412, -69],\n",
       "   [516, 437, -66],\n",
       "   [509, 452, -59]],\n",
       "  'bbox': (402, 286, 131, 179),\n",
       "  'center': (467, 375),\n",
       "  'type': 'Left'}]"
      ]
     },
     "execution_count": 137,
     "metadata": {},
     "output_type": "execute_result"
    }
   ],
   "source": [
    "hand_pic"
   ]
  },
  {
   "cell_type": "code",
   "execution_count": null,
   "id": "9ed81fb2",
   "metadata": {},
   "outputs": [],
   "source": []
  },
  {
   "cell_type": "code",
   "execution_count": null,
   "id": "7036d76a",
   "metadata": {},
   "outputs": [],
   "source": []
  },
  {
   "cell_type": "code",
   "execution_count": null,
   "id": "8df952d9",
   "metadata": {},
   "outputs": [],
   "source": []
  },
  {
   "cell_type": "code",
   "execution_count": null,
   "id": "c7884c02",
   "metadata": {},
   "outputs": [],
   "source": []
  },
  {
   "cell_type": "code",
   "execution_count": null,
   "id": "6fa441b0",
   "metadata": {},
   "outputs": [],
   "source": []
  },
  {
   "cell_type": "code",
   "execution_count": null,
   "id": "d0ab1bfc",
   "metadata": {},
   "outputs": [],
   "source": []
  },
  {
   "cell_type": "code",
   "execution_count": null,
   "id": "45ebc64d",
   "metadata": {},
   "outputs": [],
   "source": []
  },
  {
   "cell_type": "code",
   "execution_count": 139,
   "id": "f5f5df9b",
   "metadata": {},
   "outputs": [],
   "source": [
    "#simple python code to play with the fingers to control the system app"
   ]
  },
  {
   "cell_type": "code",
   "execution_count": 156,
   "id": "6db39dfd",
   "metadata": {},
   "outputs": [],
   "source": [
    "#https://github.com/vimallinuxworld13/workshop-AI-SP2023/blob/master/mycv.py"
   ]
  },
  {
   "cell_type": "code",
   "execution_count": 165,
   "id": "aa14cafd",
   "metadata": {},
   "outputs": [],
   "source": [
    "camera.release()"
   ]
  },
  {
   "cell_type": "code",
   "execution_count": null,
   "id": "a17b662a",
   "metadata": {},
   "outputs": [],
   "source": []
  },
  {
   "cell_type": "code",
   "execution_count": null,
   "id": "e66d5be6",
   "metadata": {},
   "outputs": [],
   "source": [
    "\n"
   ]
  },
  {
   "cell_type": "code",
   "execution_count": null,
   "id": "bef8c9e2",
   "metadata": {},
   "outputs": [],
   "source": []
  }
 ],
 "metadata": {
  "kernelspec": {
   "display_name": "Python 3 (ipykernel)",
   "language": "python",
   "name": "python3"
  },
  "language_info": {
   "codemirror_mode": {
    "name": "ipython",
    "version": 3
   },
   "file_extension": ".py",
   "mimetype": "text/x-python",
   "name": "python",
   "nbconvert_exporter": "python",
   "pygments_lexer": "ipython3",
   "version": "3.10.9"
  }
 },
 "nbformat": 4,
 "nbformat_minor": 5
}
